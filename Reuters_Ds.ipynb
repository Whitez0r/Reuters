{
 "cells": [
  {
   "cell_type": "markdown",
   "id": "578c3b04",
   "metadata": {},
   "source": [
    "### Importing Libraries"
   ]
  },
  {
   "cell_type": "code",
   "execution_count": 1,
   "id": "5091a110",
   "metadata": {},
   "outputs": [],
   "source": [
    "import os, re\n",
    "from bs4 import BeautifulSoup\n",
    "import pandas as pd\n",
    "import matplotlib.pyplot as plt\n",
    "import sklearn\n",
    "from sklearn.model_selection import train_test_split\n",
    "from sklearn.feature_extraction.text import TfidfTransformer, TfidfVectorizer\n",
    "from sklearn.pipeline import Pipeline\n",
    "from sklearn.neighbors import KNeighborsClassifier\n",
    "from sklearn import metrics\n",
    "import scipy.spatial"
   ]
  },
  {
   "cell_type": "markdown",
   "id": "56d8bcce",
   "metadata": {},
   "source": [
    "### Processing and Compiling "
   ]
  },
  {
   "cell_type": "code",
   "execution_count": 2,
   "id": "74f34281",
   "metadata": {},
   "outputs": [],
   "source": [
    "def minor_preprocess(file):\n",
    "\n",
    "  with open(file, 'rb') as f:\n",
    "    lines = f.readlines()\n",
    "    utf8_safe_lines = [line.decode('utf-8', 'ignore') for line in lines]\n",
    "    xml_safe_lines = [re.sub(r'&#\\d*;', '', line) for line in utf8_safe_lines]\n",
    "    no_newlines = [line.replace('\\n', ' ') for line in xml_safe_lines]\n",
    "  f.close()\n",
    "\n",
    "  return ''.join(no_newlines)\n"
   ]
  },
  {
   "cell_type": "code",
   "execution_count": 3,
   "id": "7b2e56b0",
   "metadata": {},
   "outputs": [],
   "source": [
    "def compile_data(datapath='data'):\n",
    "  dataset = []\n",
    "  for file in os.listdir(datapath):\n",
    "    if file.endswith('.sgm'):\n",
    "      preprocessed_data = minor_preprocess(datapath + '/' + file)\n",
    "      records = [record + '</REUTERS>' for record in preprocessed_data.split('</REUTERS>') if record]\n",
    "      dataset.extend(records)\n",
    "  \n",
    "  return dataset"
   ]
  },
  {
   "cell_type": "code",
   "execution_count": 4,
   "id": "bd7b04b6",
   "metadata": {},
   "outputs": [],
   "source": [
    "def compile_dictionary(data):\n",
    "  \n",
    "  data_dict = {\n",
    "    #  'Title': '',\n",
    "      'Body': '', \n",
    "      'Country': '',\n",
    "      }\n",
    "    \n",
    "  soup = BeautifulSoup(data, 'xml')\n",
    "\n",
    "  try:\n",
    "   # if soup.TITLE.contents:\n",
    "    #  body = soup.TITLE.contents[0]\n",
    "    #  data_dict['Title'] = soup.TITLE.contents[0]\n",
    "        \n",
    "    if soup.BODY.contents:\n",
    "      body = soup.BODY.contents[0]\n",
    "      data_dict['Body'] = soup.BODY.contents[0]\n",
    "        \n",
    "    if soup.PLACES.contents:\n",
    "      body = soup.PLACES.contents[0]\n",
    "      data_dict['Country'] = soup.PLACES.D.contents[0]\n",
    "    \n",
    "  except AttributeError:\n",
    "    pass\n",
    "\n",
    "  return data_dict\n"
   ]
  },
  {
   "cell_type": "code",
   "execution_count": 5,
   "id": "0d8b7dbb",
   "metadata": {},
   "outputs": [],
   "source": [
    "dataset = compile_data()"
   ]
  },
  {
   "cell_type": "code",
   "execution_count": 6,
   "id": "471d3b30",
   "metadata": {},
   "outputs": [],
   "source": [
    "dataset_dicts = [compile_dictionary(data) for data in dataset]"
   ]
  },
  {
   "cell_type": "markdown",
   "id": "155a6ef7",
   "metadata": {},
   "source": [
    "### About the Data"
   ]
  },
  {
   "cell_type": "code",
   "execution_count": 7,
   "id": "56d971be",
   "metadata": {},
   "outputs": [],
   "source": [
    "dataset_dicts = [data for data in dataset_dicts]"
   ]
  },
  {
   "cell_type": "code",
   "execution_count": 8,
   "id": "a192ae75",
   "metadata": {},
   "outputs": [],
   "source": [
    "df = pd.DataFrame(dataset_dicts)"
   ]
  },
  {
   "cell_type": "code",
   "execution_count": 9,
   "id": "ee4df731",
   "metadata": {},
   "outputs": [
    {
     "data": {
      "text/html": [
       "<div>\n",
       "<style scoped>\n",
       "    .dataframe tbody tr th:only-of-type {\n",
       "        vertical-align: middle;\n",
       "    }\n",
       "\n",
       "    .dataframe tbody tr th {\n",
       "        vertical-align: top;\n",
       "    }\n",
       "\n",
       "    .dataframe thead th {\n",
       "        text-align: right;\n",
       "    }\n",
       "</style>\n",
       "<table border=\"1\" class=\"dataframe\">\n",
       "  <thead>\n",
       "    <tr style=\"text-align: right;\">\n",
       "      <th></th>\n",
       "      <th>Body</th>\n",
       "      <th>Country</th>\n",
       "    </tr>\n",
       "  </thead>\n",
       "  <tbody>\n",
       "    <tr>\n",
       "      <th>0</th>\n",
       "      <td>Inco Ltd said it did not expect its earlier re...</td>\n",
       "      <td>canada</td>\n",
       "    </tr>\n",
       "    <tr>\n",
       "      <th>1</th>\n",
       "      <td>Mason Benson, former president and chief opera...</td>\n",
       "      <td>usa</td>\n",
       "    </tr>\n",
       "    <tr>\n",
       "      <th>2</th>\n",
       "      <td>In a discovery that could complicate the searc...</td>\n",
       "      <td>usa</td>\n",
       "    </tr>\n",
       "    <tr>\n",
       "      <th>3</th>\n",
       "      <td>Doctors at the Centers for Disease Control in ...</td>\n",
       "      <td>usa</td>\n",
       "    </tr>\n",
       "    <tr>\n",
       "      <th>4</th>\n",
       "      <td>U.S. economic data this week could be the key ...</td>\n",
       "      <td>usa</td>\n",
       "    </tr>\n",
       "    <tr>\n",
       "      <th>...</th>\n",
       "      <td>...</td>\n",
       "      <td>...</td>\n",
       "    </tr>\n",
       "    <tr>\n",
       "      <th>21595</th>\n",
       "      <td>The Soviet Union's industrial output is growin...</td>\n",
       "      <td>ussr</td>\n",
       "    </tr>\n",
       "    <tr>\n",
       "      <th>21596</th>\n",
       "      <td>Six black miners have been killed and two inju...</td>\n",
       "      <td>south-africa</td>\n",
       "    </tr>\n",
       "    <tr>\n",
       "      <th>21597</th>\n",
       "      <td>The prospect of a dominant alliance of sociali...</td>\n",
       "      <td>switzerland</td>\n",
       "    </tr>\n",
       "    <tr>\n",
       "      <th>21598</th>\n",
       "      <td>The American Stock Exchange said it has introd...</td>\n",
       "      <td>usa</td>\n",
       "    </tr>\n",
       "    <tr>\n",
       "      <th>21599</th>\n",
       "      <td></td>\n",
       "      <td></td>\n",
       "    </tr>\n",
       "  </tbody>\n",
       "</table>\n",
       "<p>21600 rows × 2 columns</p>\n",
       "</div>"
      ],
      "text/plain": [
       "                                                    Body       Country\n",
       "0      Inco Ltd said it did not expect its earlier re...        canada\n",
       "1      Mason Benson, former president and chief opera...           usa\n",
       "2      In a discovery that could complicate the searc...           usa\n",
       "3      Doctors at the Centers for Disease Control in ...           usa\n",
       "4      U.S. economic data this week could be the key ...           usa\n",
       "...                                                  ...           ...\n",
       "21595  The Soviet Union's industrial output is growin...          ussr\n",
       "21596  Six black miners have been killed and two inju...  south-africa\n",
       "21597  The prospect of a dominant alliance of sociali...   switzerland\n",
       "21598  The American Stock Exchange said it has introd...           usa\n",
       "21599                                                                 \n",
       "\n",
       "[21600 rows x 2 columns]"
      ]
     },
     "execution_count": 9,
     "metadata": {},
     "output_type": "execute_result"
    }
   ],
   "source": [
    "df"
   ]
  },
  {
   "cell_type": "code",
   "execution_count": 10,
   "id": "4c92eac0",
   "metadata": {},
   "outputs": [
    {
     "data": {
      "text/plain": [
       "Index(['Body', 'Country'], dtype='object')"
      ]
     },
     "execution_count": 10,
     "metadata": {},
     "output_type": "execute_result"
    }
   ],
   "source": [
    "df.columns"
   ]
  },
  {
   "cell_type": "code",
   "execution_count": 11,
   "id": "82bdfdcc",
   "metadata": {},
   "outputs": [
    {
     "data": {
      "text/plain": [
       "usa                    11759\n",
       "                        3202\n",
       "uk                      1238\n",
       "canada                   882\n",
       "japan                    697\n",
       "                       ...  \n",
       "aruba                      1\n",
       "iceland                    1\n",
       "zaire                      1\n",
       "mozambique                 1\n",
       "yemen-demo-republic        1\n",
       "Name: Country, Length: 115, dtype: int64"
      ]
     },
     "execution_count": 11,
     "metadata": {},
     "output_type": "execute_result"
    }
   ],
   "source": [
    "df.Country.value_counts()"
   ]
  },
  {
   "cell_type": "code",
   "execution_count": 12,
   "id": "b66890dc",
   "metadata": {},
   "outputs": [],
   "source": [
    "df_clean = df.loc[df['Country'].isin(['usa', 'canada', 'west-germany', 'france', 'uk', 'japan'])]"
   ]
  },
  {
   "cell_type": "code",
   "execution_count": 13,
   "id": "913ecfc8",
   "metadata": {},
   "outputs": [
    {
     "data": {
      "text/html": [
       "<div>\n",
       "<style scoped>\n",
       "    .dataframe tbody tr th:only-of-type {\n",
       "        vertical-align: middle;\n",
       "    }\n",
       "\n",
       "    .dataframe tbody tr th {\n",
       "        vertical-align: top;\n",
       "    }\n",
       "\n",
       "    .dataframe thead th {\n",
       "        text-align: right;\n",
       "    }\n",
       "</style>\n",
       "<table border=\"1\" class=\"dataframe\">\n",
       "  <thead>\n",
       "    <tr style=\"text-align: right;\">\n",
       "      <th></th>\n",
       "      <th>Body</th>\n",
       "      <th>Country</th>\n",
       "    </tr>\n",
       "  </thead>\n",
       "  <tbody>\n",
       "    <tr>\n",
       "      <th>0</th>\n",
       "      <td>Inco Ltd said it did not expect its earlier re...</td>\n",
       "      <td>canada</td>\n",
       "    </tr>\n",
       "    <tr>\n",
       "      <th>1</th>\n",
       "      <td>Mason Benson, former president and chief opera...</td>\n",
       "      <td>usa</td>\n",
       "    </tr>\n",
       "    <tr>\n",
       "      <th>2</th>\n",
       "      <td>In a discovery that could complicate the searc...</td>\n",
       "      <td>usa</td>\n",
       "    </tr>\n",
       "    <tr>\n",
       "      <th>3</th>\n",
       "      <td>Doctors at the Centers for Disease Control in ...</td>\n",
       "      <td>usa</td>\n",
       "    </tr>\n",
       "    <tr>\n",
       "      <th>4</th>\n",
       "      <td>U.S. economic data this week could be the key ...</td>\n",
       "      <td>usa</td>\n",
       "    </tr>\n",
       "    <tr>\n",
       "      <th>...</th>\n",
       "      <td>...</td>\n",
       "      <td>...</td>\n",
       "    </tr>\n",
       "    <tr>\n",
       "      <th>21583</th>\n",
       "      <td>Iranian President Ali Khamenei said he doubted...</td>\n",
       "      <td>usa</td>\n",
       "    </tr>\n",
       "    <tr>\n",
       "      <th>21586</th>\n",
       "      <td>The Ministry of Finance has started to conside...</td>\n",
       "      <td>japan</td>\n",
       "    </tr>\n",
       "    <tr>\n",
       "      <th>21592</th>\n",
       "      <td>An announcement by Alliant Computer Systems In...</td>\n",
       "      <td>usa</td>\n",
       "    </tr>\n",
       "    <tr>\n",
       "      <th>21593</th>\n",
       "      <td>Tokyo's foreign exchange market is watching ne...</td>\n",
       "      <td>japan</td>\n",
       "    </tr>\n",
       "    <tr>\n",
       "      <th>21598</th>\n",
       "      <td>The American Stock Exchange said it has introd...</td>\n",
       "      <td>usa</td>\n",
       "    </tr>\n",
       "  </tbody>\n",
       "</table>\n",
       "<p>15295 rows × 2 columns</p>\n",
       "</div>"
      ],
      "text/plain": [
       "                                                    Body Country\n",
       "0      Inco Ltd said it did not expect its earlier re...  canada\n",
       "1      Mason Benson, former president and chief opera...     usa\n",
       "2      In a discovery that could complicate the searc...     usa\n",
       "3      Doctors at the Centers for Disease Control in ...     usa\n",
       "4      U.S. economic data this week could be the key ...     usa\n",
       "...                                                  ...     ...\n",
       "21583  Iranian President Ali Khamenei said he doubted...     usa\n",
       "21586  The Ministry of Finance has started to conside...   japan\n",
       "21592  An announcement by Alliant Computer Systems In...     usa\n",
       "21593  Tokyo's foreign exchange market is watching ne...   japan\n",
       "21598  The American Stock Exchange said it has introd...     usa\n",
       "\n",
       "[15295 rows x 2 columns]"
      ]
     },
     "execution_count": 13,
     "metadata": {},
     "output_type": "execute_result"
    }
   ],
   "source": [
    "df_clean"
   ]
  },
  {
   "cell_type": "markdown",
   "id": "c7db996d",
   "metadata": {},
   "source": [
    "###  Train/Test 60/40"
   ]
  },
  {
   "cell_type": "code",
   "execution_count": 14,
   "id": "58d5a412",
   "metadata": {},
   "outputs": [],
   "source": [
    "X_train, X_test, y_train, y_test = train_test_split(df_clean ['Body'], df_clean ['Country'], test_size = 0.4)"
   ]
  },
  {
   "cell_type": "markdown",
   "id": "e44c3c8c",
   "metadata": {},
   "source": [
    "###  Train/Test 30/70\n"
   ]
  },
  {
   "cell_type": "code",
   "execution_count": 15,
   "id": "401f3db4",
   "metadata": {},
   "outputs": [],
   "source": [
    "X_train, X_test, y_train, y_test = train_test_split(df_clean ['Body'], df_clean ['Country'], test_size = 0.7)"
   ]
  },
  {
   "cell_type": "markdown",
   "id": "4cb229d8",
   "metadata": {},
   "source": [
    "###  Train/Test 50/50\n"
   ]
  },
  {
   "cell_type": "code",
   "execution_count": 16,
   "id": "2bd31ec3",
   "metadata": {},
   "outputs": [],
   "source": [
    "X_train, X_test, y_train, y_test = train_test_split(df_clean ['Body'], df_clean ['Country'], test_size = 0.5)"
   ]
  },
  {
   "cell_type": "code",
   "execution_count": 17,
   "id": "39cfd1da",
   "metadata": {},
   "outputs": [
    {
     "data": {
      "text/plain": [
       "(7647,)"
      ]
     },
     "execution_count": 17,
     "metadata": {},
     "output_type": "execute_result"
    }
   ],
   "source": [
    "X_train.shape"
   ]
  },
  {
   "cell_type": "markdown",
   "id": "b2462359",
   "metadata": {},
   "source": [
    "###  Training & Testing KNN\n"
   ]
  },
  {
   "cell_type": "code",
   "execution_count": 18,
   "id": "44850d21",
   "metadata": {},
   "outputs": [
    {
     "name": "stdout",
     "output_type": "stream",
     "text": [
      "Training & Testing KNN euclidean metric\n",
      "Iterations - 1"
     ]
    },
    {
     "name": "stderr",
     "output_type": "stream",
     "text": [
      "/Users/whitez0r/opt/anaconda3/lib/python3.9/site-packages/sklearn/neighbors/_classification.py:228: FutureWarning: Unlike other reduction functions (e.g. `skew`, `kurtosis`), the default behavior of `mode` typically preserves the axis it acts along. In SciPy 1.11.0, this behavior will change: the default value of `keepdims` will become False, the `axis` over which the statistic is taken will be eliminated, and the value None will no longer be accepted. Set `keepdims` to True or False to avoid this warning.\n",
      "  mode, _ = stats.mode(_y[neigh_ind, k], axis=1)\n"
     ]
    },
    {
     "name": "stdout",
     "output_type": "stream",
     "text": [
      "2"
     ]
    },
    {
     "name": "stderr",
     "output_type": "stream",
     "text": [
      "/Users/whitez0r/opt/anaconda3/lib/python3.9/site-packages/sklearn/neighbors/_classification.py:228: FutureWarning: Unlike other reduction functions (e.g. `skew`, `kurtosis`), the default behavior of `mode` typically preserves the axis it acts along. In SciPy 1.11.0, this behavior will change: the default value of `keepdims` will become False, the `axis` over which the statistic is taken will be eliminated, and the value None will no longer be accepted. Set `keepdims` to True or False to avoid this warning.\n",
      "  mode, _ = stats.mode(_y[neigh_ind, k], axis=1)\n"
     ]
    },
    {
     "name": "stdout",
     "output_type": "stream",
     "text": [
      "3"
     ]
    },
    {
     "name": "stderr",
     "output_type": "stream",
     "text": [
      "/Users/whitez0r/opt/anaconda3/lib/python3.9/site-packages/sklearn/neighbors/_classification.py:228: FutureWarning: Unlike other reduction functions (e.g. `skew`, `kurtosis`), the default behavior of `mode` typically preserves the axis it acts along. In SciPy 1.11.0, this behavior will change: the default value of `keepdims` will become False, the `axis` over which the statistic is taken will be eliminated, and the value None will no longer be accepted. Set `keepdims` to True or False to avoid this warning.\n",
      "  mode, _ = stats.mode(_y[neigh_ind, k], axis=1)\n"
     ]
    },
    {
     "name": "stdout",
     "output_type": "stream",
     "text": [
      "4"
     ]
    },
    {
     "name": "stderr",
     "output_type": "stream",
     "text": [
      "/Users/whitez0r/opt/anaconda3/lib/python3.9/site-packages/sklearn/neighbors/_classification.py:228: FutureWarning: Unlike other reduction functions (e.g. `skew`, `kurtosis`), the default behavior of `mode` typically preserves the axis it acts along. In SciPy 1.11.0, this behavior will change: the default value of `keepdims` will become False, the `axis` over which the statistic is taken will be eliminated, and the value None will no longer be accepted. Set `keepdims` to True or False to avoid this warning.\n",
      "  mode, _ = stats.mode(_y[neigh_ind, k], axis=1)\n"
     ]
    },
    {
     "name": "stdout",
     "output_type": "stream",
     "text": [
      "5"
     ]
    },
    {
     "name": "stderr",
     "output_type": "stream",
     "text": [
      "/Users/whitez0r/opt/anaconda3/lib/python3.9/site-packages/sklearn/neighbors/_classification.py:228: FutureWarning: Unlike other reduction functions (e.g. `skew`, `kurtosis`), the default behavior of `mode` typically preserves the axis it acts along. In SciPy 1.11.0, this behavior will change: the default value of `keepdims` will become False, the `axis` over which the statistic is taken will be eliminated, and the value None will no longer be accepted. Set `keepdims` to True or False to avoid this warning.\n",
      "  mode, _ = stats.mode(_y[neigh_ind, k], axis=1)\n"
     ]
    },
    {
     "name": "stdout",
     "output_type": "stream",
     "text": [
      "6"
     ]
    },
    {
     "name": "stderr",
     "output_type": "stream",
     "text": [
      "/Users/whitez0r/opt/anaconda3/lib/python3.9/site-packages/sklearn/neighbors/_classification.py:228: FutureWarning: Unlike other reduction functions (e.g. `skew`, `kurtosis`), the default behavior of `mode` typically preserves the axis it acts along. In SciPy 1.11.0, this behavior will change: the default value of `keepdims` will become False, the `axis` over which the statistic is taken will be eliminated, and the value None will no longer be accepted. Set `keepdims` to True or False to avoid this warning.\n",
      "  mode, _ = stats.mode(_y[neigh_ind, k], axis=1)\n"
     ]
    },
    {
     "name": "stdout",
     "output_type": "stream",
     "text": [
      "7"
     ]
    },
    {
     "name": "stderr",
     "output_type": "stream",
     "text": [
      "/Users/whitez0r/opt/anaconda3/lib/python3.9/site-packages/sklearn/neighbors/_classification.py:228: FutureWarning: Unlike other reduction functions (e.g. `skew`, `kurtosis`), the default behavior of `mode` typically preserves the axis it acts along. In SciPy 1.11.0, this behavior will change: the default value of `keepdims` will become False, the `axis` over which the statistic is taken will be eliminated, and the value None will no longer be accepted. Set `keepdims` to True or False to avoid this warning.\n",
      "  mode, _ = stats.mode(_y[neigh_ind, k], axis=1)\n"
     ]
    },
    {
     "name": "stdout",
     "output_type": "stream",
     "text": [
      "8"
     ]
    },
    {
     "name": "stderr",
     "output_type": "stream",
     "text": [
      "/Users/whitez0r/opt/anaconda3/lib/python3.9/site-packages/sklearn/neighbors/_classification.py:228: FutureWarning: Unlike other reduction functions (e.g. `skew`, `kurtosis`), the default behavior of `mode` typically preserves the axis it acts along. In SciPy 1.11.0, this behavior will change: the default value of `keepdims` will become False, the `axis` over which the statistic is taken will be eliminated, and the value None will no longer be accepted. Set `keepdims` to True or False to avoid this warning.\n",
      "  mode, _ = stats.mode(_y[neigh_ind, k], axis=1)\n"
     ]
    },
    {
     "name": "stdout",
     "output_type": "stream",
     "text": [
      "9"
     ]
    },
    {
     "name": "stderr",
     "output_type": "stream",
     "text": [
      "/Users/whitez0r/opt/anaconda3/lib/python3.9/site-packages/sklearn/neighbors/_classification.py:228: FutureWarning: Unlike other reduction functions (e.g. `skew`, `kurtosis`), the default behavior of `mode` typically preserves the axis it acts along. In SciPy 1.11.0, this behavior will change: the default value of `keepdims` will become False, the `axis` over which the statistic is taken will be eliminated, and the value None will no longer be accepted. Set `keepdims` to True or False to avoid this warning.\n",
      "  mode, _ = stats.mode(_y[neigh_ind, k], axis=1)\n"
     ]
    },
    {
     "name": "stdout",
     "output_type": "stream",
     "text": [
      "10"
     ]
    },
    {
     "name": "stderr",
     "output_type": "stream",
     "text": [
      "/Users/whitez0r/opt/anaconda3/lib/python3.9/site-packages/sklearn/neighbors/_classification.py:228: FutureWarning: Unlike other reduction functions (e.g. `skew`, `kurtosis`), the default behavior of `mode` typically preserves the axis it acts along. In SciPy 1.11.0, this behavior will change: the default value of `keepdims` will become False, the `axis` over which the statistic is taken will be eliminated, and the value None will no longer be accepted. Set `keepdims` to True or False to avoid this warning.\n",
      "  mode, _ = stats.mode(_y[neigh_ind, k], axis=1)\n"
     ]
    }
   ],
   "source": [
    "print('Training & Testing KNN euclidean metric')\n",
    "print('Iterations - ', end='')\n",
    "\n",
    "euc_acc_knn, euc_prec_knn, euc_rec_knn = [], [], []\n",
    "index = []\n",
    "maxn, steps = 10, 1\n",
    "\n",
    "i = steps\n",
    "while i <= maxn:\n",
    "    print(i, end='')\n",
    "    index.append(i)\n",
    "\n",
    "    model_knn = Pipeline([\n",
    "    ('tfidf', TfidfVectorizer()),\n",
    "    ('knb_clf', KNeighborsClassifier(n_neighbors=i, metric='euclidean'))])\n",
    "\n",
    "    model_knn.fit(X_train, y_train)    \n",
    "\n",
    "    y_pred = model_knn.predict(X_test)\n",
    "\n",
    "    euc_acc_knn.append(metrics.accuracy_score(y_test, y_pred))\n",
    "    euc_prec_knn.append(metrics.precision_score(y_test, y_pred, average='weighted'))\n",
    "    euc_rec_knn.append(metrics.recall_score(y_test, y_pred, average='weighted'))\n",
    "\n",
    "    i += steps\n",
    "\n",
    "    del model_knn\n",
    "    del y_pred"
   ]
  },
  {
   "cell_type": "code",
   "execution_count": 19,
   "id": "0faa80cd",
   "metadata": {},
   "outputs": [
    {
     "name": "stdout",
     "output_type": "stream",
     "text": [
      "Creating Result DataFrame  - Done\n",
      "\n",
      "Accuracy\n",
      "1 0.8832374476987448\n",
      "2 0.8500261506276151\n",
      "3 0.8902981171548117\n",
      "4 0.8893828451882845\n",
      "5 0.8923901673640168\n",
      "6 0.8930439330543933\n",
      "7 0.8934361924686193\n",
      "8 0.8923901673640168\n",
      "9 0.8892520920502092\n",
      "10 0.8892520920502092\n",
      "\n",
      "Precision\n",
      "1 0.8814441179208826\n",
      "2 0.874927580439772\n",
      "3 0.8843847399274831\n",
      "4 0.883813061921262\n",
      "5 0.8859575049743099\n",
      "6 0.8867616444377152\n",
      "7 0.8876585597622669\n",
      "8 0.8872242940070274\n",
      "9 0.8844572650095462\n",
      "10 0.8849002915400888\n",
      "\n",
      "Recall\n",
      "1 0.8832374476987448\n",
      "2 0.8500261506276151\n",
      "3 0.8902981171548117\n",
      "4 0.8893828451882845\n",
      "5 0.8923901673640168\n",
      "6 0.8930439330543933\n",
      "7 0.8934361924686193\n",
      "8 0.8923901673640168\n",
      "9 0.8892520920502092\n",
      "10 0.8892520920502092\n"
     ]
    }
   ],
   "source": [
    "print('Creating Result DataFrame', end=' ')\n",
    "columns=['Accuracy', 'Precision', 'Recall']\n",
    "euc_df_knn = pd.DataFrame(columns=columns, index=index)\n",
    "\n",
    "euc_df_knn['Accuracy'] = euc_acc_knn\n",
    "euc_df_knn['Precision'] = euc_prec_knn\n",
    "euc_df_knn['Recall'] = euc_rec_knn\n",
    "\n",
    "print(' - Done')\n",
    "\n",
    "print()\n",
    "print('Accuracy')\n",
    "i = steps\n",
    "while i<=maxn:\n",
    "    print(i, euc_df_knn['Accuracy'][i])\n",
    "    i += steps\n",
    "\n",
    "print()\n",
    "print('Precision')\n",
    "i = steps\n",
    "while i<=maxn:\n",
    "    print(i, euc_df_knn['Precision'][i])\n",
    "    i += steps\n",
    "\n",
    "print()    \n",
    "print('Recall')\n",
    "i = steps\n",
    "while i<=maxn:\n",
    "    print(i, euc_df_knn['Recall'][i])\n",
    "    i += steps"
   ]
  },
  {
   "cell_type": "code",
   "execution_count": 20,
   "id": "2f4a0639",
   "metadata": {},
   "outputs": [
    {
     "name": "stdout",
     "output_type": "stream",
     "text": [
      "Extracted Data Shape \n",
      "Train :  (7647,)\n",
      "Test  :  (7648,)\n",
      "\n"
     ]
    },
    {
     "data": {
      "image/png": "[encoded data removed]",
      "text/plain": [
       "<Figure size 640x480 with 1 Axes>"
      ]
     },
     "metadata": {},
     "output_type": "display_data"
    }
   ],
   "source": [
    "print('Extracted Data Shape ')\n",
    "print('Train : ', X_train.shape)\n",
    "print('Test  : ', X_test.shape)\n",
    "print()\n",
    "plt.plot(index, euc_acc_knn, label='Accuracy')\n",
    "plt.plot(index, euc_prec_knn, label='Precision')\n",
    "plt.plot(index, euc_rec_knn, label='Recall')\n",
    "plt.legend(loc=4)\n",
    "plt.title('Accuracy, Precision, Recall Euclidean ')\n",
    "plt.show()"
   ]
  },
  {
   "cell_type": "code",
   "execution_count": 21,
   "id": "c769970d",
   "metadata": {},
   "outputs": [
    {
     "name": "stdout",
     "output_type": "stream",
     "text": [
      "Training & Testing KNN chebyshev metric\n",
      "Iterations - 1"
     ]
    },
    {
     "name": "stderr",
     "output_type": "stream",
     "text": [
      "/Users/whitez0r/opt/anaconda3/lib/python3.9/site-packages/sklearn/neighbors/_classification.py:228: FutureWarning: Unlike other reduction functions (e.g. `skew`, `kurtosis`), the default behavior of `mode` typically preserves the axis it acts along. In SciPy 1.11.0, this behavior will change: the default value of `keepdims` will become False, the `axis` over which the statistic is taken will be eliminated, and the value None will no longer be accepted. Set `keepdims` to True or False to avoid this warning.\n",
      "  mode, _ = stats.mode(_y[neigh_ind, k], axis=1)\n"
     ]
    },
    {
     "name": "stdout",
     "output_type": "stream",
     "text": [
      "2"
     ]
    },
    {
     "name": "stderr",
     "output_type": "stream",
     "text": [
      "/Users/whitez0r/opt/anaconda3/lib/python3.9/site-packages/sklearn/neighbors/_classification.py:228: FutureWarning: Unlike other reduction functions (e.g. `skew`, `kurtosis`), the default behavior of `mode` typically preserves the axis it acts along. In SciPy 1.11.0, this behavior will change: the default value of `keepdims` will become False, the `axis` over which the statistic is taken will be eliminated, and the value None will no longer be accepted. Set `keepdims` to True or False to avoid this warning.\n",
      "  mode, _ = stats.mode(_y[neigh_ind, k], axis=1)\n"
     ]
    },
    {
     "name": "stdout",
     "output_type": "stream",
     "text": [
      "3"
     ]
    },
    {
     "name": "stderr",
     "output_type": "stream",
     "text": [
      "/Users/whitez0r/opt/anaconda3/lib/python3.9/site-packages/sklearn/neighbors/_classification.py:228: FutureWarning: Unlike other reduction functions (e.g. `skew`, `kurtosis`), the default behavior of `mode` typically preserves the axis it acts along. In SciPy 1.11.0, this behavior will change: the default value of `keepdims` will become False, the `axis` over which the statistic is taken will be eliminated, and the value None will no longer be accepted. Set `keepdims` to True or False to avoid this warning.\n",
      "  mode, _ = stats.mode(_y[neigh_ind, k], axis=1)\n"
     ]
    },
    {
     "name": "stdout",
     "output_type": "stream",
     "text": [
      "4"
     ]
    },
    {
     "name": "stderr",
     "output_type": "stream",
     "text": [
      "/Users/whitez0r/opt/anaconda3/lib/python3.9/site-packages/sklearn/neighbors/_classification.py:228: FutureWarning: Unlike other reduction functions (e.g. `skew`, `kurtosis`), the default behavior of `mode` typically preserves the axis it acts along. In SciPy 1.11.0, this behavior will change: the default value of `keepdims` will become False, the `axis` over which the statistic is taken will be eliminated, and the value None will no longer be accepted. Set `keepdims` to True or False to avoid this warning.\n",
      "  mode, _ = stats.mode(_y[neigh_ind, k], axis=1)\n"
     ]
    },
    {
     "name": "stdout",
     "output_type": "stream",
     "text": [
      "5"
     ]
    },
    {
     "name": "stderr",
     "output_type": "stream",
     "text": [
      "/Users/whitez0r/opt/anaconda3/lib/python3.9/site-packages/sklearn/neighbors/_classification.py:228: FutureWarning: Unlike other reduction functions (e.g. `skew`, `kurtosis`), the default behavior of `mode` typically preserves the axis it acts along. In SciPy 1.11.0, this behavior will change: the default value of `keepdims` will become False, the `axis` over which the statistic is taken will be eliminated, and the value None will no longer be accepted. Set `keepdims` to True or False to avoid this warning.\n",
      "  mode, _ = stats.mode(_y[neigh_ind, k], axis=1)\n"
     ]
    },
    {
     "name": "stdout",
     "output_type": "stream",
     "text": [
      "6"
     ]
    },
    {
     "name": "stderr",
     "output_type": "stream",
     "text": [
      "/Users/whitez0r/opt/anaconda3/lib/python3.9/site-packages/sklearn/neighbors/_classification.py:228: FutureWarning: Unlike other reduction functions (e.g. `skew`, `kurtosis`), the default behavior of `mode` typically preserves the axis it acts along. In SciPy 1.11.0, this behavior will change: the default value of `keepdims` will become False, the `axis` over which the statistic is taken will be eliminated, and the value None will no longer be accepted. Set `keepdims` to True or False to avoid this warning.\n",
      "  mode, _ = stats.mode(_y[neigh_ind, k], axis=1)\n"
     ]
    },
    {
     "name": "stdout",
     "output_type": "stream",
     "text": [
      "7"
     ]
    },
    {
     "name": "stderr",
     "output_type": "stream",
     "text": [
      "/Users/whitez0r/opt/anaconda3/lib/python3.9/site-packages/sklearn/neighbors/_classification.py:228: FutureWarning: Unlike other reduction functions (e.g. `skew`, `kurtosis`), the default behavior of `mode` typically preserves the axis it acts along. In SciPy 1.11.0, this behavior will change: the default value of `keepdims` will become False, the `axis` over which the statistic is taken will be eliminated, and the value None will no longer be accepted. Set `keepdims` to True or False to avoid this warning.\n",
      "  mode, _ = stats.mode(_y[neigh_ind, k], axis=1)\n"
     ]
    },
    {
     "name": "stdout",
     "output_type": "stream",
     "text": [
      "8"
     ]
    },
    {
     "name": "stderr",
     "output_type": "stream",
     "text": [
      "/Users/whitez0r/opt/anaconda3/lib/python3.9/site-packages/sklearn/neighbors/_classification.py:228: FutureWarning: Unlike other reduction functions (e.g. `skew`, `kurtosis`), the default behavior of `mode` typically preserves the axis it acts along. In SciPy 1.11.0, this behavior will change: the default value of `keepdims` will become False, the `axis` over which the statistic is taken will be eliminated, and the value None will no longer be accepted. Set `keepdims` to True or False to avoid this warning.\n",
      "  mode, _ = stats.mode(_y[neigh_ind, k], axis=1)\n"
     ]
    },
    {
     "name": "stdout",
     "output_type": "stream",
     "text": [
      "9"
     ]
    },
    {
     "name": "stderr",
     "output_type": "stream",
     "text": [
      "/Users/whitez0r/opt/anaconda3/lib/python3.9/site-packages/sklearn/neighbors/_classification.py:228: FutureWarning: Unlike other reduction functions (e.g. `skew`, `kurtosis`), the default behavior of `mode` typically preserves the axis it acts along. In SciPy 1.11.0, this behavior will change: the default value of `keepdims` will become False, the `axis` over which the statistic is taken will be eliminated, and the value None will no longer be accepted. Set `keepdims` to True or False to avoid this warning.\n",
      "  mode, _ = stats.mode(_y[neigh_ind, k], axis=1)\n"
     ]
    },
    {
     "name": "stdout",
     "output_type": "stream",
     "text": [
      "10"
     ]
    },
    {
     "name": "stderr",
     "output_type": "stream",
     "text": [
      "/Users/whitez0r/opt/anaconda3/lib/python3.9/site-packages/sklearn/neighbors/_classification.py:228: FutureWarning: Unlike other reduction functions (e.g. `skew`, `kurtosis`), the default behavior of `mode` typically preserves the axis it acts along. In SciPy 1.11.0, this behavior will change: the default value of `keepdims` will become False, the `axis` over which the statistic is taken will be eliminated, and the value None will no longer be accepted. Set `keepdims` to True or False to avoid this warning.\n",
      "  mode, _ = stats.mode(_y[neigh_ind, k], axis=1)\n"
     ]
    }
   ],
   "source": [
    "print('Training & Testing KNN chebyshev metric')\n",
    "print('Iterations - ', end='')\n",
    "\n",
    "cheb_acc_knn, cheb_prec_knn, cheb_rec_knn = [], [], []\n",
    "index = []\n",
    "maxn, steps = 10, 1\n",
    "\n",
    "i = steps\n",
    "while i <= maxn:\n",
    "    print(i, end='')\n",
    "    index.append(i)\n",
    "\n",
    "    model_knn = Pipeline([\n",
    "    ('tfidf', TfidfVectorizer()),\n",
    "    ('knb_clf', KNeighborsClassifier(n_neighbors=i))])\n",
    "\n",
    "    model_knn.fit(X_train, y_train)    \n",
    "\n",
    "    y_pred = model_knn.predict(X_test)\n",
    "\n",
    "    cheb_acc_knn.append(metrics.accuracy_score(y_test, y_pred))\n",
    "    cheb_prec_knn.append(metrics.precision_score(y_test, y_pred, average='weighted'))\n",
    "    cheb_rec_knn.append(metrics.recall_score(y_test, y_pred, average='weighted'))\n",
    "\n",
    "    i += steps\n",
    "\n",
    "    del model_knn\n",
    "    del y_pred"
   ]
  },
  {
   "cell_type": "code",
   "execution_count": 22,
   "id": "82e968bd",
   "metadata": {},
   "outputs": [
    {
     "name": "stdout",
     "output_type": "stream",
     "text": [
      "Creating Result DataFrame  - Done\n",
      "\n",
      "Accuracy\n",
      "1 0.8832374476987448\n",
      "2 0.8500261506276151\n",
      "3 0.8902981171548117\n",
      "4 0.8893828451882845\n",
      "5 0.8923901673640168\n",
      "6 0.8930439330543933\n",
      "7 0.8934361924686193\n",
      "8 0.8923901673640168\n",
      "9 0.8892520920502092\n",
      "10 0.8892520920502092\n",
      "\n",
      "Precision\n",
      "1 0.8814441179208826\n",
      "2 0.874927580439772\n",
      "3 0.8843847399274831\n",
      "4 0.883813061921262\n",
      "5 0.8859575049743099\n",
      "6 0.8867616444377152\n",
      "7 0.8876585597622669\n",
      "8 0.8872242940070274\n",
      "9 0.8844572650095462\n",
      "10 0.8849002915400888\n",
      "\n",
      "Recall\n",
      "1 0.8832374476987448\n",
      "2 0.8500261506276151\n",
      "3 0.8902981171548117\n",
      "4 0.8893828451882845\n",
      "5 0.8923901673640168\n",
      "6 0.8930439330543933\n",
      "7 0.8934361924686193\n",
      "8 0.8923901673640168\n",
      "9 0.8892520920502092\n",
      "10 0.8892520920502092\n"
     ]
    }
   ],
   "source": [
    "print('Creating Result DataFrame', end=' ')\n",
    "columns=['Accuracy', 'Precision', 'Recall']\n",
    "cheb_df_knn = pd.DataFrame(columns=columns, index=index)\n",
    "\n",
    "cheb_df_knn['Accuracy'] = cheb_acc_knn\n",
    "cheb_df_knn['Precision'] = cheb_prec_knn\n",
    "cheb_df_knn['Recall'] = cheb_rec_knn\n",
    "\n",
    "print(' - Done')\n",
    "\n",
    "print()\n",
    "print('Accuracy')\n",
    "i = steps\n",
    "while i<=maxn:\n",
    "    print(i, cheb_df_knn['Accuracy'][i])\n",
    "    i += steps\n",
    "\n",
    "print()\n",
    "print('Precision')\n",
    "i = steps\n",
    "while i<=maxn:\n",
    "    print(i, cheb_df_knn['Precision'][i])\n",
    "    i += steps\n",
    "\n",
    "print()    \n",
    "print('Recall')\n",
    "i = steps\n",
    "while i<=maxn:\n",
    "    print(i, cheb_df_knn['Recall'][i])\n",
    "    i += steps"
   ]
  },
  {
   "cell_type": "code",
   "execution_count": 23,
   "id": "d7e5d853",
   "metadata": {},
   "outputs": [
    {
     "name": "stdout",
     "output_type": "stream",
     "text": [
      "Extracted Data Shape \n",
      "Train :  (7647,)\n",
      "Test  :  (7648,)\n",
      "\n"
     ]
    },
    {
     "data": {
      "image/png": "[encoded data removed]",
      "text/plain": [
       "<Figure size 640x480 with 1 Axes>"
      ]
     },
     "metadata": {},
     "output_type": "display_data"
    }
   ],
   "source": [
    "print('Extracted Data Shape ')\n",
    "print('Train : ', X_train.shape)\n",
    "print('Test  : ', X_test.shape)\n",
    "print()\n",
    "plt.plot(index, cheb_acc_knn, label='Accuracy')\n",
    "plt.plot(index, cheb_prec_knn, label='Precision')\n",
    "plt.plot(index, cheb_rec_knn, label='Recall')\n",
    "plt.legend(loc=4)\n",
    "plt.title('Accuracy, Precision, Recall chebyshev')\n",
    "plt.show()"
   ]
  },
  {
   "cell_type": "code",
   "execution_count": 24,
   "id": "9623b843",
   "metadata": {},
   "outputs": [
    {
     "name": "stdout",
     "output_type": "stream",
     "text": [
      "Training & Testing KNN cityblock metric\n",
      "Iterations - 1"
     ]
    },
    {
     "name": "stderr",
     "output_type": "stream",
     "text": [
      "/Users/whitez0r/opt/anaconda3/lib/python3.9/site-packages/sklearn/neighbors/_classification.py:228: FutureWarning: Unlike other reduction functions (e.g. `skew`, `kurtosis`), the default behavior of `mode` typically preserves the axis it acts along. In SciPy 1.11.0, this behavior will change: the default value of `keepdims` will become False, the `axis` over which the statistic is taken will be eliminated, and the value None will no longer be accepted. Set `keepdims` to True or False to avoid this warning.\n",
      "  mode, _ = stats.mode(_y[neigh_ind, k], axis=1)\n"
     ]
    },
    {
     "name": "stdout",
     "output_type": "stream",
     "text": [
      "2"
     ]
    },
    {
     "name": "stderr",
     "output_type": "stream",
     "text": [
      "/Users/whitez0r/opt/anaconda3/lib/python3.9/site-packages/sklearn/neighbors/_classification.py:228: FutureWarning: Unlike other reduction functions (e.g. `skew`, `kurtosis`), the default behavior of `mode` typically preserves the axis it acts along. In SciPy 1.11.0, this behavior will change: the default value of `keepdims` will become False, the `axis` over which the statistic is taken will be eliminated, and the value None will no longer be accepted. Set `keepdims` to True or False to avoid this warning.\n",
      "  mode, _ = stats.mode(_y[neigh_ind, k], axis=1)\n"
     ]
    },
    {
     "name": "stdout",
     "output_type": "stream",
     "text": [
      "3"
     ]
    },
    {
     "name": "stderr",
     "output_type": "stream",
     "text": [
      "/Users/whitez0r/opt/anaconda3/lib/python3.9/site-packages/sklearn/neighbors/_classification.py:228: FutureWarning: Unlike other reduction functions (e.g. `skew`, `kurtosis`), the default behavior of `mode` typically preserves the axis it acts along. In SciPy 1.11.0, this behavior will change: the default value of `keepdims` will become False, the `axis` over which the statistic is taken will be eliminated, and the value None will no longer be accepted. Set `keepdims` to True or False to avoid this warning.\n",
      "  mode, _ = stats.mode(_y[neigh_ind, k], axis=1)\n"
     ]
    },
    {
     "name": "stdout",
     "output_type": "stream",
     "text": [
      "4"
     ]
    },
    {
     "name": "stderr",
     "output_type": "stream",
     "text": [
      "/Users/whitez0r/opt/anaconda3/lib/python3.9/site-packages/sklearn/neighbors/_classification.py:228: FutureWarning: Unlike other reduction functions (e.g. `skew`, `kurtosis`), the default behavior of `mode` typically preserves the axis it acts along. In SciPy 1.11.0, this behavior will change: the default value of `keepdims` will become False, the `axis` over which the statistic is taken will be eliminated, and the value None will no longer be accepted. Set `keepdims` to True or False to avoid this warning.\n",
      "  mode, _ = stats.mode(_y[neigh_ind, k], axis=1)\n"
     ]
    },
    {
     "name": "stdout",
     "output_type": "stream",
     "text": [
      "5"
     ]
    },
    {
     "name": "stderr",
     "output_type": "stream",
     "text": [
      "/Users/whitez0r/opt/anaconda3/lib/python3.9/site-packages/sklearn/neighbors/_classification.py:228: FutureWarning: Unlike other reduction functions (e.g. `skew`, `kurtosis`), the default behavior of `mode` typically preserves the axis it acts along. In SciPy 1.11.0, this behavior will change: the default value of `keepdims` will become False, the `axis` over which the statistic is taken will be eliminated, and the value None will no longer be accepted. Set `keepdims` to True or False to avoid this warning.\n",
      "  mode, _ = stats.mode(_y[neigh_ind, k], axis=1)\n"
     ]
    },
    {
     "name": "stdout",
     "output_type": "stream",
     "text": [
      "6"
     ]
    },
    {
     "name": "stderr",
     "output_type": "stream",
     "text": [
      "/Users/whitez0r/opt/anaconda3/lib/python3.9/site-packages/sklearn/neighbors/_classification.py:228: FutureWarning: Unlike other reduction functions (e.g. `skew`, `kurtosis`), the default behavior of `mode` typically preserves the axis it acts along. In SciPy 1.11.0, this behavior will change: the default value of `keepdims` will become False, the `axis` over which the statistic is taken will be eliminated, and the value None will no longer be accepted. Set `keepdims` to True or False to avoid this warning.\n",
      "  mode, _ = stats.mode(_y[neigh_ind, k], axis=1)\n"
     ]
    },
    {
     "name": "stdout",
     "output_type": "stream",
     "text": [
      "7"
     ]
    },
    {
     "name": "stderr",
     "output_type": "stream",
     "text": [
      "/Users/whitez0r/opt/anaconda3/lib/python3.9/site-packages/sklearn/neighbors/_classification.py:228: FutureWarning: Unlike other reduction functions (e.g. `skew`, `kurtosis`), the default behavior of `mode` typically preserves the axis it acts along. In SciPy 1.11.0, this behavior will change: the default value of `keepdims` will become False, the `axis` over which the statistic is taken will be eliminated, and the value None will no longer be accepted. Set `keepdims` to True or False to avoid this warning.\n",
      "  mode, _ = stats.mode(_y[neigh_ind, k], axis=1)\n"
     ]
    },
    {
     "name": "stdout",
     "output_type": "stream",
     "text": [
      "8"
     ]
    },
    {
     "name": "stderr",
     "output_type": "stream",
     "text": [
      "/Users/whitez0r/opt/anaconda3/lib/python3.9/site-packages/sklearn/neighbors/_classification.py:228: FutureWarning: Unlike other reduction functions (e.g. `skew`, `kurtosis`), the default behavior of `mode` typically preserves the axis it acts along. In SciPy 1.11.0, this behavior will change: the default value of `keepdims` will become False, the `axis` over which the statistic is taken will be eliminated, and the value None will no longer be accepted. Set `keepdims` to True or False to avoid this warning.\n",
      "  mode, _ = stats.mode(_y[neigh_ind, k], axis=1)\n"
     ]
    },
    {
     "name": "stdout",
     "output_type": "stream",
     "text": [
      "9"
     ]
    },
    {
     "name": "stderr",
     "output_type": "stream",
     "text": [
      "/Users/whitez0r/opt/anaconda3/lib/python3.9/site-packages/sklearn/neighbors/_classification.py:228: FutureWarning: Unlike other reduction functions (e.g. `skew`, `kurtosis`), the default behavior of `mode` typically preserves the axis it acts along. In SciPy 1.11.0, this behavior will change: the default value of `keepdims` will become False, the `axis` over which the statistic is taken will be eliminated, and the value None will no longer be accepted. Set `keepdims` to True or False to avoid this warning.\n",
      "  mode, _ = stats.mode(_y[neigh_ind, k], axis=1)\n"
     ]
    },
    {
     "name": "stdout",
     "output_type": "stream",
     "text": [
      "10"
     ]
    },
    {
     "name": "stderr",
     "output_type": "stream",
     "text": [
      "/Users/whitez0r/opt/anaconda3/lib/python3.9/site-packages/sklearn/neighbors/_classification.py:228: FutureWarning: Unlike other reduction functions (e.g. `skew`, `kurtosis`), the default behavior of `mode` typically preserves the axis it acts along. In SciPy 1.11.0, this behavior will change: the default value of `keepdims` will become False, the `axis` over which the statistic is taken will be eliminated, and the value None will no longer be accepted. Set `keepdims` to True or False to avoid this warning.\n",
      "  mode, _ = stats.mode(_y[neigh_ind, k], axis=1)\n"
     ]
    }
   ],
   "source": [
    "print('Training & Testing KNN cityblock metric')\n",
    "print('Iterations - ', end='')\n",
    "\n",
    "city_acc_knn, city_prec_knn, city_rec_knn = [], [], []\n",
    "index = []\n",
    "maxn, steps = 10, 1\n",
    "\n",
    "i = steps\n",
    "while i <= maxn:\n",
    "    print(i, end='')\n",
    "    index.append(i)\n",
    "\n",
    "    model_knn = Pipeline([\n",
    "    ('tfidf', TfidfVectorizer()),\n",
    "    ('knb_clf', KNeighborsClassifier(n_neighbors=i, metric='cityblock'))])\n",
    "\n",
    "    model_knn.fit(X_train, y_train)    \n",
    "\n",
    "    y_pred = model_knn.predict(X_test)\n",
    "\n",
    "    city_acc_knn.append(metrics.accuracy_score(y_test, y_pred))\n",
    "    city_prec_knn.append(metrics.precision_score(y_test, y_pred, average='weighted'))\n",
    "    city_rec_knn.append(metrics.recall_score(y_test, y_pred, average='weighted'))\n",
    "\n",
    "    i += steps\n",
    "\n",
    "    del model_knn\n",
    "    del y_pred"
   ]
  },
  {
   "cell_type": "code",
   "execution_count": 25,
   "id": "8fc921de",
   "metadata": {},
   "outputs": [
    {
     "name": "stdout",
     "output_type": "stream",
     "text": [
      "Creating Result DataFrame  - Done\n",
      "\n",
      "Accuracy\n",
      "1 0.8314592050209205\n",
      "2 0.8038702928870293\n",
      "3 0.8121077405857741\n",
      "4 0.8067468619246861\n",
      "5 0.8089696652719666\n",
      "6 0.8028242677824268\n",
      "7 0.8021705020920502\n",
      "8 0.8006014644351465\n",
      "9 0.8021705020920502\n",
      "10 0.7992939330543933\n",
      "\n",
      "Precision\n",
      "1 0.8276227835057477\n",
      "2 0.8243776719850812\n",
      "3 0.8048177314619611\n",
      "4 0.8065759009692313\n",
      "5 0.8009091067728737\n",
      "6 0.7991625645298694\n",
      "7 0.7911497888554055\n",
      "8 0.7882929918003841\n",
      "9 0.7884300507731092\n",
      "10 0.7877846536654214\n",
      "\n",
      "Recall\n",
      "1 0.8314592050209205\n",
      "2 0.8038702928870293\n",
      "3 0.8121077405857741\n",
      "4 0.8067468619246861\n",
      "5 0.8089696652719666\n",
      "6 0.8028242677824268\n",
      "7 0.8021705020920502\n",
      "8 0.8006014644351465\n",
      "9 0.8021705020920502\n",
      "10 0.7992939330543933\n"
     ]
    }
   ],
   "source": [
    "print('Creating Result DataFrame', end=' ')\n",
    "columns=['Accuracy', 'Precision', 'Recall']\n",
    "city_df_knn = pd.DataFrame(columns=columns, index=index)\n",
    "\n",
    "city_df_knn['Accuracy'] = city_acc_knn\n",
    "city_df_knn['Precision'] = city_prec_knn\n",
    "city_df_knn['Recall'] = city_rec_knn\n",
    "\n",
    "print(' - Done')\n",
    "\n",
    "print()\n",
    "print('Accuracy')\n",
    "i = steps\n",
    "while i<=maxn:\n",
    "    print(i, city_df_knn['Accuracy'][i])\n",
    "    i += steps\n",
    "\n",
    "print()\n",
    "print('Precision')\n",
    "i = steps\n",
    "while i<=maxn:\n",
    "    print(i, city_df_knn['Precision'][i])\n",
    "    i += steps\n",
    "\n",
    "print()    \n",
    "print('Recall')\n",
    "i = steps\n",
    "while i<=maxn:\n",
    "    print(i, city_df_knn['Recall'][i])\n",
    "    i += steps"
   ]
  },
  {
   "cell_type": "code",
   "execution_count": 26,
   "id": "97dbc5e4",
   "metadata": {},
   "outputs": [
    {
     "name": "stdout",
     "output_type": "stream",
     "text": [
      "Extracted Data Shape \n",
      "Train :  (7647,)\n",
      "Test  :  (7648,)\n",
      "\n"
     ]
    },
    {
     "data": {
      "image/png": "[encoded data removed]",
      "text/plain": [
       "<Figure size 640x480 with 1 Axes>"
      ]
     },
     "metadata": {},
     "output_type": "display_data"
    }
   ],
   "source": [
    "print('Extracted Data Shape ')\n",
    "print('Train : ', X_train.shape)\n",
    "print('Test  : ', X_test.shape)\n",
    "print()\n",
    "plt.plot(index, city_acc_knn, label='Accuracy')\n",
    "plt.plot(index, city_prec_knn, label='Precision')\n",
    "plt.plot(index, city_rec_knn, label='Recall')\n",
    "plt.legend(loc=4)\n",
    "plt.title('Accuracy, Precision, Recall cityblock')\n",
    "plt.show()"
   ]
  },
  {
   "cell_type": "code",
   "execution_count": null,
   "id": "fdee7a2b",
   "metadata": {},
   "outputs": [],
   "source": []
  },
  {
   "cell_type": "code",
   "execution_count": null,
   "id": "dc0a2a65",
   "metadata": {},
   "outputs": [],
   "source": []
  },
  {
   "cell_type": "code",
   "execution_count": null,
   "id": "f1cadc1c",
   "metadata": {},
   "outputs": [],
   "source": []
  },
  {
   "cell_type": "code",
   "execution_count": null,
   "id": "80cbb2ae",
   "metadata": {},
   "outputs": [],
   "source": []
  }
 ],
 "metadata": {
  "kernelspec": {
   "display_name": "Python 3 (ipykernel)",
   "language": "python",
   "name": "python3"
  },
  "language_info": {
   "codemirror_mode": {
    "name": "ipython",
    "version": 3
   },
   "file_extension": ".py",
   "mimetype": "text/x-python",
   "name": "python",
   "nbconvert_exporter": "python",
   "pygments_lexer": "ipython3",
   "version": "3.9.13"
  }
 },
 "nbformat": 4,
 "nbformat_minor": 5
}
